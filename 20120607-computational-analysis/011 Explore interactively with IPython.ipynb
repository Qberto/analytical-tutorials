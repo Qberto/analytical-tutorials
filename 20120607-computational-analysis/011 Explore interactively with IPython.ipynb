{
 "cells": [
  {
   "cell_type": "markdown",
   "metadata": {},
   "source": [
    "# IPython is for interactive Python\n",
    "\n",
    "## Interact in a browser\n",
    "\n",
    "See a list of keyboard shortcuts."
   ]
  },
  {
   "cell_type": "code",
   "execution_count": null,
   "metadata": {
    "collapsed": true
   },
   "outputs": [],
   "source": [
    "# Press ESC h"
   ]
  },
  {
   "cell_type": "markdown",
   "metadata": {},
   "source": [
    "Execute code."
   ]
  },
  {
   "cell_type": "code",
   "execution_count": null,
   "metadata": {
    "collapsed": true
   },
   "outputs": [],
   "source": [
    "# Press SHIFT-ENTER to execute the current cell and go to the next cell\n",
    "[x * 2 for x in range(5)]"
   ]
  },
  {
   "cell_type": "code",
   "execution_count": null,
   "metadata": {
    "collapsed": true
   },
   "outputs": [],
   "source": [
    "# Press SHIFT-ENTER to execute the current cell and go to the next cell\n",
    "x = 0\n",
    "x"
   ]
  },
  {
   "cell_type": "code",
   "execution_count": null,
   "metadata": {
    "collapsed": true
   },
   "outputs": [],
   "source": [
    "# Press CTRL-ENTER to execute the current cell in place\n",
    "x += 1\n",
    "x"
   ]
  },
  {
   "cell_type": "code",
   "execution_count": null,
   "metadata": {
    "collapsed": true
   },
   "outputs": [],
   "source": [
    "# Press ALT-ENTER to execute the current cell and insert a new code cell below\n",
    "from collections import defaultdict\n",
    "d = defaultdict(int)\n",
    "for x in 'blueberries':\n",
    "    d[x] += 1\n",
    "for k in sorted(d, key=lambda k: -d[k]):\n",
    "    print('%s %s' % (k, d[k]))"
   ]
  },
  {
   "cell_type": "markdown",
   "metadata": {},
   "source": [
    "Insert code blocks."
   ]
  },
  {
   "cell_type": "code",
   "execution_count": null,
   "metadata": {
    "collapsed": true
   },
   "outputs": [],
   "source": [
    "# Press CTRL-m a to insert a code cell above\n",
    "# Press CTRL-m b to insert a code cell below"
   ]
  },
  {
   "cell_type": "markdown",
   "metadata": {},
   "source": [
    "Use TAB completion."
   ]
  },
  {
   "cell_type": "code",
   "execution_count": null,
   "metadata": {
    "collapsed": true
   },
   "outputs": [],
   "source": [
    "import IPython\n",
    "# Press CTRL-ENTER to run the cell\n",
    "# Press ENTER to start edit mode\n",
    "# Type IP<TAB>.<TAB> to see options\n",
    "# Type IP<TAB>.v<TAB> to autocomplete"
   ]
  },
  {
   "cell_type": "markdown",
   "metadata": {},
   "source": [
    "Get help."
   ]
  },
  {
   "cell_type": "code",
   "execution_count": null,
   "metadata": {
    "collapsed": true
   },
   "outputs": [],
   "source": [
    "# Type zip and press SHIFT-TAB to see a tip"
   ]
  },
  {
   "cell_type": "code",
   "execution_count": null,
   "metadata": {
    "collapsed": true
   },
   "outputs": [],
   "source": [
    "# Type zip? and press CTRL-ENTER to see documentation\n",
    "# Press ESC to exit"
   ]
  },
  {
   "cell_type": "code",
   "execution_count": null,
   "metadata": {
    "collapsed": true
   },
   "outputs": [],
   "source": [
    "# Type IPython?? and press CTRL-ENTER to see source code\n",
    "# Press ESC to exit"
   ]
  },
  {
   "cell_type": "markdown",
   "metadata": {},
   "source": [
    "Split blocks."
   ]
  },
  {
   "cell_type": "code",
   "execution_count": null,
   "metadata": {
    "collapsed": true
   },
   "outputs": [],
   "source": [
    "# Place your cursor below this line and press SHIFT-CTRL--\n",
    "\n",
    "# Wheee!"
   ]
  },
  {
   "cell_type": "markdown",
   "metadata": {},
   "source": [
    "Use shell command magic with TAB completion."
   ]
  },
  {
   "cell_type": "code",
   "execution_count": null,
   "metadata": {
    "collapsed": true
   },
   "outputs": [],
   "source": [
    "ls datasets"
   ]
  },
  {
   "cell_type": "code",
   "execution_count": null,
   "metadata": {
    "collapsed": true
   },
   "outputs": [],
   "source": [
    "files = !ls  # Store shell output in a variable\n",
    "len(files)"
   ]
  },
  {
   "cell_type": "code",
   "execution_count": null,
   "metadata": {
    "collapsed": true
   },
   "outputs": [],
   "source": [
    "# First type %cd /tmp<CTRL-ENTER>\n",
    "%cd /tmp"
   ]
  },
  {
   "cell_type": "code",
   "execution_count": null,
   "metadata": {
    "collapsed": true
   },
   "outputs": [],
   "source": [
    "# Then type cd -<CTRL-ENTER>\n",
    "%cd -"
   ]
  },
  {
   "cell_type": "markdown",
   "metadata": {},
   "source": [
    "Copy and paste code and IPython will parse it intelligently.\n",
    "\n",
    "    >>> def f(x, y):\n",
    "    ...     print(x + y)\n",
    "    >>> f(1, 2)"
   ]
  },
  {
   "cell_type": "code",
   "execution_count": null,
   "metadata": {
    "collapsed": true
   },
   "outputs": [],
   "source": [
    "# Paste the above code here and press CTRL-ENTER"
   ]
  },
  {
   "cell_type": "markdown",
   "metadata": {},
   "source": [
    "Examine variables in your session namespace."
   ]
  },
  {
   "cell_type": "code",
   "execution_count": null,
   "metadata": {
    "collapsed": true
   },
   "outputs": [],
   "source": [
    "# Press SHIFT-ENTER\n",
    "x = 1"
   ]
  },
  {
   "cell_type": "code",
   "execution_count": null,
   "metadata": {
    "collapsed": true
   },
   "outputs": [],
   "source": [
    "whos"
   ]
  },
  {
   "cell_type": "markdown",
   "metadata": {},
   "source": [
    "Compare execution speed."
   ]
  },
  {
   "cell_type": "code",
   "execution_count": null,
   "metadata": {
    "collapsed": true
   },
   "outputs": [],
   "source": [
    "timeit 10 ** 10"
   ]
  },
  {
   "cell_type": "code",
   "execution_count": null,
   "metadata": {
    "collapsed": true
   },
   "outputs": [],
   "source": [
    "timeit pow(10, 10)"
   ]
  },
  {
   "cell_type": "markdown",
   "metadata": {},
   "source": [
    "Write mathematical expressions in LaTeX thanks to [MathJax](http://mathjax.org).\n",
    "\n",
    "$\\left( \\sum_{k=1}^n a_k b_k \\right)^2 \\leq \\left( \\sum_{k=1}^n a_k^2 \\right) \\left( \\sum_{k=1}^n b_k^2 \\right)$"
   ]
  },
  {
   "cell_type": "markdown",
   "metadata": {},
   "source": [
    "Surround text with quotes, parentheses and brackets"
   ]
  },
  {
   "cell_type": "code",
   "execution_count": null,
   "metadata": {
    "collapsed": true
   },
   "outputs": [],
   "source": [
    "# Select this text and press \" to surround the text with quotes\n",
    "# Select this text and press ( to surround the text with parentheses\n",
    "# Select this text and press [ to surround the text with brackets"
   ]
  },
  {
   "cell_type": "markdown",
   "metadata": {},
   "source": [
    "## Interact in a terminal\n",
    "\n",
    "Start IPython in a terminal.\n",
    "\n",
    "    ipython\n",
    "    ipython --pylab   # Plot interactively without calling pylab.show()"
   ]
  },
  {
   "cell_type": "markdown",
   "metadata": {},
   "source": [
    "Expand variables in shell commands.\n",
    "\n",
    "    x = 'Documents'\n",
    "    %ls ~/$x\n",
    "\n",
    "Use the underscore.\n",
    "\n",
    "    1 + 1\n",
    "    _          # Press ENTER to use the previous result\n",
    "    _ + 1      # Press ENTER to use the previous result\n",
    "\n",
    "Complete lines using your command history.\n",
    "\n",
    "               # Press UP or DOWN to cycle through previous commands\n",
    "    x          # Press CTRL-p or CTRL-n to see previous commands starting with the letter x\n",
    "               # Press CTRL-r and type the letter o to recall previous commands containing the letter o\n",
    "\n",
    "Use other commands from [readline](http://www.gnu.org/s/readline).\n",
    "\n",
    "    import os  # Press CTRL-u to clear text before the cursor\n",
    "    import os  # Press CTRL-k to clear text after the cursor"
   ]
  },
  {
   "cell_type": "markdown",
   "metadata": {},
   "source": [
    "Edit a block of commands using your favorite editor.\n",
    "\n",
    "    edit\n",
    "    edit example.py\n",
    "    run example\n",
    "\n",
    "Examine your command history.\n",
    "\n",
    "    hist               # Look at your session command history\n",
    "    hist -g            # Look at your global command history.\n",
    "    hist -g join       # Search global command history for the keyword join\n",
    "    recall 1           # Recall command for editing from history slot number one\n",
    "    rerun 1            # Rerun command from history slot number one"
   ]
  },
  {
   "cell_type": "markdown",
   "metadata": {},
   "source": [
    "Use other magic commands.\n",
    "\n",
    "    import os\n",
    "    reload(os)         # Reload a previously imported module in case its contents have changed\n",
    "    /reload os         # reload(os)           Add parentheses\n",
    "    ; print hi there   # print('hi there')    Add parentheses, quotes\n",
    "    , print hi there   # print('hi', 'there') Add parentheses, quotes, commas\n",
    "\n",
    "    def f(x):\n",
    "        print x + 1\n",
    "    f(None)\n",
    "    pdb                # Toggle automatic debugging\n",
    "    f(None)\n",
    "                       # Press CTRL-d to exit the debugger"
   ]
  },
  {
   "cell_type": "markdown",
   "metadata": {},
   "source": [
    "For more readline commands, please see \n",
    "[Jan Tomka's sheet](http://jan.tomka.name/sites/default/files/readline-commands.html).\n",
    "\n",
    "For more IPython commands, please see the [IPython documentation](http://ipython.org/documentation.html)."
   ]
  },
  {
   "cell_type": "markdown",
   "metadata": {},
   "source": [
    "## Interact inside a program\n",
    "\n",
    "Drop into an IPython prompt to examine variables."
   ]
  },
  {
   "cell_type": "code",
   "execution_count": null,
   "metadata": {
    "collapsed": true
   },
   "outputs": [],
   "source": [
    "def f(text):\n",
    "    word_count = len(text.split())\n",
    "    # import IPython; IPython.embed()\n",
    "    return '%s words' % word_count\n",
    "\n",
    "f('one two three')\n",
    "# Uncomment the line above\n",
    "# Press CTRL-ENTER to run this cell\n",
    "# Type whos and press ENTER\n",
    "# Type exit and press ENTER"
   ]
  },
  {
   "cell_type": "markdown",
   "metadata": {},
   "source": [
    "Drop into a debugger (command-line users should take advantage of [PuDB](https://pypi.python.org/pypi/pudb))."
   ]
  },
  {
   "cell_type": "code",
   "execution_count": null,
   "metadata": {
    "collapsed": true
   },
   "outputs": [],
   "source": [
    "def f(x):\n",
    "    # from IPython.core import debugger; debugger.set_trace()\n",
    "    x = x * 2\n",
    "    x = x + 1\n",
    "    return x\n",
    "\n",
    "f(1)\n",
    "# Uncomment the line above\n",
    "# Press CTRL-ENTER to run this cell\n",
    "# Type n and press ENTER\n",
    "# Type q and press ENTER"
   ]
  },
  {
   "cell_type": "markdown",
   "metadata": {},
   "source": [
    "Debug post mortem."
   ]
  },
  {
   "cell_type": "code",
   "execution_count": null,
   "metadata": {
    "collapsed": true
   },
   "outputs": [],
   "source": [
    "def f(x):\n",
    "    return x / 0\n",
    "    \n",
    "f(1)\n",
    "# Press SHIFT-ENTER to run this cell and move to the next cell\n",
    "# See ZeroDivisionError\n",
    "# Uncomment the next cell\n",
    "# Press CTRL-ENTER to run the next cell to examine the exception\n",
    "# Type u and press ENTER\n",
    "# Type q and press ENTER"
   ]
  },
  {
   "cell_type": "code",
   "execution_count": null,
   "metadata": {
    "collapsed": true
   },
   "outputs": [],
   "source": [
    "# debug"
   ]
  },
  {
   "cell_type": "markdown",
   "metadata": {},
   "source": [
    "To automatically drop into a debugger on an exception, toggle `pdb`."
   ]
  },
  {
   "cell_type": "code",
   "execution_count": null,
   "metadata": {
    "collapsed": true
   },
   "outputs": [],
   "source": [
    "# pdb"
   ]
  },
  {
   "cell_type": "code",
   "execution_count": null,
   "metadata": {
    "collapsed": true
   },
   "outputs": [],
   "source": [
    "import this"
   ]
  },
  {
   "cell_type": "raw",
   "metadata": {},
   "source": [
    "from IPython.lib.display import YouTubeVideo\n",
    "YouTubeVideo('iwVvqwLDsJo')"
   ]
  }
 ],
 "metadata": {
  "kernelspec": {
   "display_name": "Python 3",
   "language": "python",
   "name": "python3"
  },
  "language_info": {
   "codemirror_mode": {
    "name": "ipython",
    "version": 3
   },
   "file_extension": ".py",
   "mimetype": "text/x-python",
   "name": "python",
   "nbconvert_exporter": "python",
   "pygments_lexer": "ipython3",
   "version": "3.5.3"
  }
 },
 "nbformat": 4,
 "nbformat_minor": 1
}
