{
 "cells": [
  {
   "cell_type": "markdown",
   "metadata": {},
   "source": [
    "# SciPy is a collection of scientific computing algorithms\n",
    "\n",
    "[SciPy Reference](http://docs.scipy.org/doc/scipy/reference)"
   ]
  },
  {
   "cell_type": "markdown",
   "metadata": {},
   "source": [
    "- [Optimization](http://docs.scipy.org/doc/scipy/reference/tutorial/optimize.html)\n",
    "- [Interpolation](http://docs.scipy.org/doc/scipy/reference/tutorial/interpolate.html)\n",
    "- [Signal Processing](http://docs.scipy.org/doc/scipy/reference/tutorial/signal.html)\n",
    "- [Image Processing](http://docs.scipy.org/doc/scipy/reference/tutorial/ndimage.html)"
   ]
  }
 ],
 "metadata": {
  "kernelspec": {
   "display_name": "Python 3",
   "language": "python",
   "name": "python3"
  },
  "language_info": {
   "codemirror_mode": {
    "name": "ipython",
    "version": 3
   },
   "file_extension": ".py",
   "mimetype": "text/x-python",
   "name": "python",
   "nbconvert_exporter": "python",
   "pygments_lexer": "ipython3",
   "version": "3.5.3"
  }
 },
 "nbformat": 4,
 "nbformat_minor": 1
}
