{
 "cells": [
  {
   "cell_type": "markdown",
   "metadata": {},
   "source": [
    "# NetworkX is for network relationship analysis\n",
    "\n",
    "[NetworkX](https://networkx.github.io) is a package for creating, analyzing, visualizing networks or graphs. A graph is a general mathematical concept that can be used to represent nodes and edges for moving from one node to another node. The strength of NetworkX is in its simplicity and its [algorithms](https://networkx.readthedocs.io/en/stable/reference/algorithms.html)."
   ]
  },
  {
   "cell_type": "code",
   "execution_count": null,
   "metadata": {},
   "outputs": [],
   "source": [
    "import networkx as nx"
   ]
  },
  {
   "cell_type": "markdown",
   "metadata": {},
   "source": [
    "Make a graph."
   ]
  },
  {
   "cell_type": "code",
   "execution_count": null,
   "metadata": {},
   "outputs": [],
   "source": [
    "# Make a graph where edges do not have direction.\n",
    "graph = nx.Graph()"
   ]
  },
  {
   "cell_type": "code",
   "execution_count": null,
   "metadata": {},
   "outputs": [],
   "source": [
    "# Make a graph where edges have direction.\n",
    "directed_graph = nx.DiGraph()"
   ]
  },
  {
   "cell_type": "code",
   "execution_count": null,
   "metadata": {},
   "outputs": [],
   "source": [
    "# Make a graph where two nodes can have multiple connecting edges without direction.\n",
    "multi_graph = nx.MultiGraph()"
   ]
  },
  {
   "cell_type": "code",
   "execution_count": null,
   "metadata": {},
   "outputs": [],
   "source": [
    "# Make a graph where two nodes can have multiple connecting edges with direction.\n",
    "# For example, this kind of graph can represent cities that are connected by more than one highway.\n",
    "multi_directed_graph = nx.MultiDiGraph()"
   ]
  },
  {
   "cell_type": "code",
   "execution_count": null,
   "metadata": {},
   "outputs": [],
   "source": [
    "# Generate a random graph.\n",
    "degree = 2\n",
    "node_count = 10\n",
    "random_graph = nx.random_regular_graph(degree, node_count)"
   ]
  },
  {
   "cell_type": "markdown",
   "metadata": {},
   "source": [
    "Add nodes, see nodes, draw nodes."
   ]
  },
  {
   "cell_type": "code",
   "execution_count": null,
   "metadata": {},
   "outputs": [],
   "source": [
    "graph = nx.Graph()\n",
    "# Add single nodes\n",
    "graph.add_node(100)\n",
    "graph.add_node('lettuce')\n",
    "# Add multiple nodes\n",
    "graph.add_nodes_from(['carrot', 'zucchini'])\n",
    "# List nodes\n",
    "graph.nodes()"
   ]
  },
  {
   "cell_type": "code",
   "execution_count": null,
   "metadata": {},
   "outputs": [],
   "source": [
    "# Print the first three letters of each node using the nodes_iter() iterator,\n",
    "# which is more efficient than nodes() because it does not create an itermediate list\n",
    "[str(node)[:3] for node in graph.nodes_iter()]"
   ]
  },
  {
   "cell_type": "code",
   "execution_count": null,
   "metadata": {},
   "outputs": [],
   "source": [
    "% matplotlib inline\n",
    "nx.draw(graph)"
   ]
  },
  {
   "cell_type": "markdown",
   "metadata": {},
   "source": [
    "Add edges, see edges, draw edges."
   ]
  },
  {
   "cell_type": "code",
   "execution_count": null,
   "metadata": {},
   "outputs": [],
   "source": [
    "graph = nx.Graph()\n",
    "# Add single edges\n",
    "graph.add_edge('City Hall', 'Union Square')\n",
    "graph.add_edge('Union Square', 'Grand Central')\n",
    "graph.add_edge('Grand Central', 'Times Square')\n",
    "# Add multiple edges\n",
    "graph.add_edges_from([\n",
    "    ('Penn Station', 'Times Square'),\n",
    "    ('Times Square', '72nd Street and Broadway'),\n",
    "    ('72nd Street and Broadway', '96th Street and Broadway'),\n",
    "])\n",
    "# List nodes\n",
    "graph.nodes()"
   ]
  },
  {
   "cell_type": "code",
   "execution_count": null,
   "metadata": {},
   "outputs": [],
   "source": [
    "# List edges\n",
    "graph.edges()"
   ]
  },
  {
   "cell_type": "code",
   "execution_count": null,
   "metadata": {},
   "outputs": [],
   "source": [
    "# List edges using the edges_iter() iterator, which is more efficient than edges()\n",
    "# because it does not create an itermediate list\n",
    "[(node1, node2) for node1, node2 in graph.edges_iter()]"
   ]
  },
  {
   "cell_type": "code",
   "execution_count": null,
   "metadata": {},
   "outputs": [],
   "source": [
    "%matplotlib inline\n",
    "nx.draw(graph)"
   ]
  },
  {
   "cell_type": "markdown",
   "metadata": {},
   "source": [
    "Add attributes."
   ]
  },
  {
   "cell_type": "code",
   "execution_count": null,
   "metadata": {},
   "outputs": [],
   "source": [
    "# Add graph attributes\n",
    "graph = nx.Graph(name='phone records')\n",
    "graph.graph['start_index'] = 500\n",
    "graph.graph['end_index'] = 10000\n",
    "graph.graph"
   ]
  },
  {
   "cell_type": "code",
   "execution_count": null,
   "metadata": {},
   "outputs": [],
   "source": [
    "# Add node attributes\n",
    "graph.add_node('18008662453', name='TMobile customer service')\n",
    "graph.add_node('18883336651', name='AT&T customer service')\n",
    "graph.add_node('18009220204', name='Verizon customer service')\n",
    "graph.add_node('18668667509', name='Sprint customer service')\n",
    "graph.node['18008662453']['name'] = 'T-Mobile customer service'\n",
    "graph.node['18008662453']"
   ]
  },
  {
   "cell_type": "code",
   "execution_count": null,
   "metadata": {},
   "outputs": [],
   "source": [
    "# Look at nodes and their attributes\n",
    "graph.nodes(data=True)"
   ]
  },
  {
   "cell_type": "code",
   "execution_count": null,
   "metadata": {},
   "outputs": [],
   "source": [
    "# Add attributes to an edge\n",
    "graph.add_edge('18883336651', '18009220204', weight=0.5, confidence=0.9)\n",
    "graph.add_edge('18009220204', '18668667509', weight=0.3, confidence=0.4)\n",
    "graph.edge['18883336651']['18009220204']['weight'] = 1.0\n",
    "graph.edge['18883336651']['18009220204']"
   ]
  },
  {
   "cell_type": "code",
   "execution_count": null,
   "metadata": {},
   "outputs": [],
   "source": [
    "# Look at edges and their attributes\n",
    "graph.edges(data=True)"
   ]
  },
  {
   "cell_type": "code",
   "execution_count": null,
   "metadata": {},
   "outputs": [],
   "source": [
    "%matplotlib inline\n",
    "nx.draw_circular(graph)"
   ]
  },
  {
   "cell_type": "markdown",
   "metadata": {},
   "source": [
    "Analyze a graph with an algorithm."
   ]
  },
  {
   "cell_type": "code",
   "execution_count": null,
   "metadata": {},
   "outputs": [],
   "source": [
    "graph = nx.Graph()\n",
    "graph.add_edge('City Hall', 'Union Square', duration=10)\n",
    "graph.add_edge('Union Square', 'Grand Central', duration=10)\n",
    "graph.add_edge('Grand Central', 'Times Square', duration=5)\n",
    "graph.add_edge('Penn Station', 'Times Square', duration=5)\n",
    "graph.add_edge('Times Square', '72nd Street and Broadway', duration=10)\n",
    "graph.add_edge('72nd Street and Broadway', '96th Street and Broadway', duration=10)\n",
    "graph.add_edge('Grand Central', '86th Street and Lexington', duration=10)\n",
    "# What is the fastest way to get from City Hall to 86th Street and Lexington?\n",
    "print(nx.dijkstra_path(graph, 'City Hall', '86th Street and Lexington', weight='duration'))\n",
    "# How long will it take?\n",
    "print('%s minutes' % nx.dijkstra_path_length(graph, 'City Hall', '86th Street and Lexington', weight='duration'))"
   ]
  },
  {
   "cell_type": "markdown",
   "metadata": {},
   "source": [
    "Save and load graphs."
   ]
  },
  {
   "cell_type": "code",
   "execution_count": null,
   "metadata": {},
   "outputs": [],
   "source": [
    "path = '/tmp/graph.pkl'\n",
    "# Save\n",
    "nx.write_gpickle(graph, path)\n",
    "# Load\n",
    "graph = nx.read_gpickle(path)\n",
    "graph.edges(data=True)"
   ]
  },
  {
   "cell_type": "markdown",
   "metadata": {},
   "source": [
    "## Resources\n",
    "\n",
    "- Video: http://pyvideo.org/video/627/graph-processing-in-python\n",
    "- Documentation: https://networkx.github.io\n",
    "- Forum: https://groups.google.com/forum/?fromgroups#!forum/networkx-discuss"
   ]
  }
 ],
 "metadata": {
  "kernelspec": {
   "display_name": "Python 3",
   "language": "python",
   "name": "python3"
  },
  "language_info": {
   "codemirror_mode": {
    "name": "ipython",
    "version": 3
   },
   "file_extension": ".py",
   "mimetype": "text/x-python",
   "name": "python",
   "nbconvert_exporter": "python",
   "pygments_lexer": "ipython3",
   "version": "3.5.3"
  }
 },
 "nbformat": 4,
 "nbformat_minor": 1
}
