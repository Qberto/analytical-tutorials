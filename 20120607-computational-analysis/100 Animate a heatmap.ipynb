{
 "cells": [
  {
   "cell_type": "code",
   "execution_count": null,
   "metadata": {},
   "outputs": [],
   "source": [
    "%matplotlib inline\n",
    "import matplotlib.pyplot as plt\n",
    "import numpy as np\n",
    "import scipy.ndimage\n",
    "import scipy.spatial"
   ]
  },
  {
   "cell_type": "markdown",
   "metadata": {},
   "source": [
    "Make 50 random points with X and Y coordinates from 0 to 256."
   ]
  },
  {
   "cell_type": "code",
   "execution_count": null,
   "metadata": {},
   "outputs": [],
   "source": [
    "point_count = 50\n",
    "points = np.random.rand(point_count, 2) * 256\n",
    "points[:3]"
   ]
  },
  {
   "cell_type": "markdown",
   "metadata": {},
   "source": [
    "Look at the last three points."
   ]
  },
  {
   "cell_type": "code",
   "execution_count": null,
   "metadata": {},
   "outputs": [],
   "source": [
    "# Type your solution here and press CTRL-ENTER"
   ]
  },
  {
   "cell_type": "markdown",
   "metadata": {},
   "source": [
    "Make a scatter plot of the 50 random points."
   ]
  },
  {
   "cell_type": "code",
   "execution_count": null,
   "metadata": {},
   "outputs": [],
   "source": [
    "values = np.random.rand(point_count) * 300\n",
    "plt.scatter(points[:, 0], points[:, 1], c=values, s=values, cmap=plt.cm.Greens)\n",
    "plt.axis('tight');"
   ]
  },
  {
   "cell_type": "markdown",
   "metadata": {},
   "source": [
    "Set points with an area greater than 50 to a different color using the Paired colormap."
   ]
  },
  {
   "cell_type": "code",
   "execution_count": null,
   "metadata": {},
   "outputs": [],
   "source": [
    "# Type your solution here and press CTRL-ENTER"
   ]
  },
  {
   "cell_type": "markdown",
   "metadata": {},
   "source": [
    "Paint a heatmap of the 50 random points."
   ]
  },
  {
   "cell_type": "code",
   "execution_count": null,
   "metadata": {},
   "outputs": [],
   "source": [
    "def get_heatmap(points):\n",
    "    image = np.zeros((256, 256))\n",
    "    for x, y in points:\n",
    "        image[int(y), int(x)] += 1\n",
    "    return scipy.ndimage.gaussian_filter(image, (10, 10))\n",
    "\n",
    "plt.imshow(get_heatmap(points), origin='lower');"
   ]
  },
  {
   "cell_type": "markdown",
   "metadata": {},
   "source": [
    "Overlay a scatter plot on the heatmap."
   ]
  },
  {
   "cell_type": "code",
   "execution_count": null,
   "metadata": {},
   "outputs": [],
   "source": [
    "# Type your solution here and press CTRL-ENTER"
   ]
  },
  {
   "cell_type": "markdown",
   "metadata": {},
   "source": [
    "Pick a random point."
   ]
  },
  {
   "cell_type": "code",
   "execution_count": null,
   "metadata": {},
   "outputs": [],
   "source": [
    "import random\n",
    "random_point = random.choice(points)\n",
    "random_point"
   ]
  },
  {
   "cell_type": "markdown",
   "metadata": {},
   "source": [
    "Get the five points closest to the random point."
   ]
  },
  {
   "cell_type": "code",
   "execution_count": null,
   "metadata": {},
   "outputs": [],
   "source": [
    "import scipy.spatial\n",
    "kd_tree = scipy.spatial.KDTree(points)\n",
    "neighbor_distances, neighbor_indices = kd_tree.query(random_point, k=5)\n",
    "points[neighbor_indices]"
   ]
  },
  {
   "cell_type": "markdown",
   "metadata": {},
   "source": [
    "Generate fifty heatmaps where the first heatmap contains a random point and the next heatmap adds a point that is close to the random point."
   ]
  },
  {
   "cell_type": "code",
   "execution_count": null,
   "metadata": {},
   "outputs": [],
   "source": [
    "target_path = '/tmp/points%03d.png'\n",
    "kd_tree = scipy.spatial.KDTree(points)\n",
    "image = get_heatmap([random_point])\n",
    "plt.imsave(target_path % 1, image, origin='lower')\n",
    "for point_count in range(2, len(points) + 1):\n",
    "    nearest_points = points[kd_tree.query(random_point, k=point_count - 1)[1]]\n",
    "    image = get_heatmap(np.vstack([random_point, nearest_points]))\n",
    "    plt.imsave(target_path % point_count, image, origin='lower')\n",
    "    print(target_path % point_count)"
   ]
  },
  {
   "cell_type": "markdown",
   "metadata": {},
   "source": [
    "Combine the fifty heatmaps into an animated GIF.\n",
    "    \n",
    "    sudo dnf -y install graphicsmagick\n",
    "    # sudo apt-get install graphicsmagick\n",
    "    cd /tmp\n",
    "    gm convert -delay 1 points*.png points.gif"
   ]
  }
 ],
 "metadata": {
  "kernelspec": {
   "display_name": "Python 3",
   "language": "python",
   "name": "python3"
  },
  "language_info": {
   "codemirror_mode": {
    "name": "ipython",
    "version": 3
   },
   "file_extension": ".py",
   "mimetype": "text/x-python",
   "name": "python",
   "nbconvert_exporter": "python",
   "pygments_lexer": "ipython3",
   "version": "3.5.3"
  }
 },
 "nbformat": 4,
 "nbformat_minor": 1
}
