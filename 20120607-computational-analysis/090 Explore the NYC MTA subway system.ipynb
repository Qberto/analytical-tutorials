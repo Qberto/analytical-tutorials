{
 "cells": [
  {
   "cell_type": "markdown",
   "metadata": {},
   "source": [
    "[NYC MTA Dataset](http://www.mta.info/developers/download.html)"
   ]
  },
  {
   "cell_type": "code",
   "execution_count": null,
   "metadata": {},
   "outputs": [],
   "source": [
    "from pandas import read_csv\n",
    "calendar = read_csv('datasets/NYC-MTA-Calendar.csv')\n",
    "routes = read_csv('datasets/NYC-MTA-Routes.csv')\n",
    "trips = read_csv('datasets/NYC-MTA-Trips.csv')\n",
    "times = read_csv('datasets/NYC-MTA-StopTimes.csv')\n",
    "stops = read_csv('datasets/NYC-MTA-Stops.csv')"
   ]
  },
  {
   "cell_type": "code",
   "execution_count": null,
   "metadata": {},
   "outputs": [],
   "source": [
    "calendar.ix[0]"
   ]
  },
  {
   "cell_type": "code",
   "execution_count": null,
   "metadata": {},
   "outputs": [],
   "source": [
    "weekday_service_ids = list(filter(lambda x: x.endswith('WKD'), calendar.service_id))\n",
    "weekday_service_ids"
   ]
  },
  {
   "cell_type": "code",
   "execution_count": null,
   "metadata": {},
   "outputs": [],
   "source": [
    "routes.ix[0]"
   ]
  },
  {
   "cell_type": "code",
   "execution_count": null,
   "metadata": {},
   "outputs": [],
   "source": [
    "route_name_by_id = {x['route_id']: x['route_long_name'] for index, x in routes.iterrows()}\n",
    "route_name_by_id['3']"
   ]
  },
  {
   "cell_type": "code",
   "execution_count": null,
   "metadata": {},
   "outputs": [],
   "source": [
    "trips.ix[0]"
   ]
  },
  {
   "cell_type": "code",
   "execution_count": null,
   "metadata": {},
   "outputs": [],
   "source": [
    "weekday_trips = trips[trips.service_id.isin(weekday_service_ids)]\n",
    "len(weekday_trips)"
   ]
  },
  {
   "cell_type": "code",
   "execution_count": null,
   "metadata": {},
   "outputs": [],
   "source": [
    "times.ix[0]"
   ]
  },
  {
   "cell_type": "code",
   "execution_count": null,
   "metadata": {},
   "outputs": [],
   "source": [
    "weekday_times = times[times.trip_id.isin(weekday_trips.trip_id.unique())]\n",
    "len(weekday_times)"
   ]
  },
  {
   "cell_type": "code",
   "execution_count": null,
   "metadata": {},
   "outputs": [],
   "source": [
    "stops.ix[0]"
   ]
  },
  {
   "cell_type": "code",
   "execution_count": null,
   "metadata": {},
   "outputs": [],
   "source": [
    "# List weekday stops on the 5 line\n",
    "route_id = '5'\n",
    "print(route_name_by_id[route_id])\n",
    "route_5_weekday_trips = weekday_trips[weekday_trips.route_id == route_id]\n",
    "stop_ids = route_5_weekday_trips.merge(weekday_times).stop_id.unique()\n",
    "stops[stops.stop_id.isin(stop_ids)].stop_name.unique()"
   ]
  },
  {
   "cell_type": "code",
   "execution_count": null,
   "metadata": {},
   "outputs": [],
   "source": [
    "# List weekday stops on the 5 line by departure time\n",
    "route_5_trip = route_5_weekday_trips.ix[route_5_weekday_trips.index[224]]\n",
    "route_5_trip_times = weekday_times[weekday_times.trip_id == route_5_trip['trip_id']]\n",
    "route_5_stops = route_5_trip_times.merge(stops)[['departure_time', 'stop_id', 'stop_name']]\n",
    "route_5_stops.sort_values('departure_time')"
   ]
  },
  {
   "cell_type": "code",
   "execution_count": null,
   "metadata": {},
   "outputs": [],
   "source": [
    "# Build a network connecting stops on the 5 line and 6 line\n",
    "import datetime\n",
    "import networkx\n",
    "\n",
    "def make_graph(trip_ids):\n",
    "    graph = networkx.MultiDiGraph()\n",
    "    for trip_id in trip_ids:\n",
    "        trip_stops = get_trip_stops(trip_id)\n",
    "        stop_generator = trip_stops.iterrows()\n",
    "        last_stop = next(stop_generator)[1]\n",
    "        for index, this_stop in stop_generator:\n",
    "            timedelta = parse_departure_time(this_stop) - parse_departure_time(last_stop)\n",
    "            minutes = timedelta.total_seconds() / 60.\n",
    "            graph.add_edge(\n",
    "                last_stop['stop_name'], this_stop['stop_name'],\n",
    "                key=route_5_trip['trip_id'], weight=minutes)\n",
    "            last_stop = this_stop\n",
    "    return graph\n",
    "\n",
    "def get_trip_stops(trip_id):\n",
    "    trip_times = times[times.trip_id == trip_id]\n",
    "    return trip_times.merge(stops)[['departure_time', 'stop_name']].sort_values('departure_time')\n",
    "\n",
    "def parse_departure_time(x):\n",
    "    return datetime.datetime.strptime(x['departure_time'], '%H:%M:%S')\n",
    "\n",
    "graph = make_graph([\n",
    "    'A20120610WKD_101200_5..N04R',\n",
    "    'A20120610WKD_104200_6..N03R',\n",
    "])"
   ]
  },
  {
   "cell_type": "code",
   "execution_count": null,
   "metadata": {},
   "outputs": [],
   "source": [
    "networkx.dijkstra_path(graph, 'Brooklyn Bridge - City Hall', '110 St')"
   ]
  },
  {
   "cell_type": "code",
   "execution_count": null,
   "metadata": {},
   "outputs": [],
   "source": [
    "networkx.dijkstra_path_length(graph, 'Brooklyn Bridge - City Hall', '110 St')"
   ]
  },
  {
   "cell_type": "code",
   "execution_count": null,
   "metadata": {},
   "outputs": [],
   "source": [
    "# Make a graph of the NYC MTA subway system\n",
    "trip_ids = []\n",
    "# For each route,\n",
    "for route_id, route_trips in weekday_trips.groupby('route_id'):\n",
    "    # Pick a trip\n",
    "    trip_ids.append(route_trips.trip_id.values[0])\n",
    "graph = make_graph(trip_ids)"
   ]
  },
  {
   "cell_type": "code",
   "execution_count": null,
   "metadata": {},
   "outputs": [],
   "source": [
    "# Which ten stations are the most connected?\n",
    "from pandas import Series\n",
    "Series(networkx.pagerank_numpy(graph)).sort_values(ascending=False)[:10]"
   ]
  }
 ],
 "metadata": {
  "kernelspec": {
   "display_name": "Python 3",
   "language": "python",
   "name": "python3"
  },
  "language_info": {
   "codemirror_mode": {
    "name": "ipython",
    "version": 3
   },
   "file_extension": ".py",
   "mimetype": "text/x-python",
   "name": "python",
   "nbconvert_exporter": "python",
   "pygments_lexer": "ipython3",
   "version": "3.5.3"
  }
 },
 "nbformat": 4,
 "nbformat_minor": 1
}
