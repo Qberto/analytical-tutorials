{
 "cells": [
  {
   "cell_type": "code",
   "execution_count": null,
   "metadata": {},
   "outputs": [],
   "source": [
    "from IPython.core.display import Image\n",
    "Image(filename='images/Xela-PazAmor.jpg')  # Xela"
   ]
  },
  {
   "cell_type": "code",
   "execution_count": null,
   "metadata": {},
   "outputs": [],
   "source": [
    "Image(filename='images/StickerLady-TimeTravel.jpg')  # Singapore (Secret!)"
   ]
  },
  {
   "cell_type": "code",
   "execution_count": null,
   "metadata": {},
   "outputs": [],
   "source": [
    "Image(filename='images/NeckFace-CreepingSleeping.jpg')  # Los Angeles"
   ]
  },
  {
   "cell_type": "code",
   "execution_count": null,
   "metadata": {},
   "outputs": [],
   "source": [
    "Image(filename='images/NewYork-OldTimers.jpg')  # New York"
   ]
  },
  {
   "cell_type": "markdown",
   "metadata": {},
   "source": [
    "Rebecca is an anthropologist who wants to understand New York through its graffiti.  Help her find the subway entrances with the most number of graffiti within a hundred foot radius.\n",
    "\n",
    "- [NYC Graffiti Locations](https://nycopendata.socrata.com/Other/Graffiti-Locations/2j99-6h29)\n",
    "- [NYC Subway Entrances](https://nycopendata.socrata.com/Transportation/Subway-Entrances/drex-xx56)"
   ]
  },
  {
   "cell_type": "code",
   "execution_count": null,
   "metadata": {},
   "outputs": [],
   "source": [
    "from pandas import read_csv\n",
    "graffiti = read_csv('datasets/NYC-GraffitiSightings.csv')\n",
    "subway = read_csv('datasets/NYC-SubwayEntrances.csv')"
   ]
  },
  {
   "cell_type": "code",
   "execution_count": null,
   "metadata": {},
   "outputs": [],
   "source": [
    "graffiti.ix[0]"
   ]
  },
  {
   "cell_type": "code",
   "execution_count": null,
   "metadata": {},
   "outputs": [],
   "source": [
    "graffiti = graffiti[graffiti.Status == 'Open']"
   ]
  },
  {
   "cell_type": "code",
   "execution_count": null,
   "metadata": {},
   "outputs": [],
   "source": [
    "graffitiXY = graffiti[['X Coordinate', 'Y Coordinate']]"
   ]
  },
  {
   "cell_type": "code",
   "execution_count": null,
   "metadata": {},
   "outputs": [],
   "source": [
    "graffitiXY = graffitiXY.rename(columns={'X Coordinate': 'X', 'Y Coordinate': 'Y'})"
   ]
  },
  {
   "cell_type": "code",
   "execution_count": null,
   "metadata": {},
   "outputs": [],
   "source": [
    "graffitiXY = graffitiXY.dropna()"
   ]
  },
  {
   "cell_type": "code",
   "execution_count": null,
   "metadata": {},
   "outputs": [],
   "source": [
    "subway.ix[0]"
   ]
  },
  {
   "cell_type": "code",
   "execution_count": null,
   "metadata": {},
   "outputs": [],
   "source": [
    "from pandas import Series\n",
    "from geometryIO import get_transformPoint, proj4LL\n",
    "\n",
    "proj4NY = '+proj=lcc +lat_1=41.03333333333333 +lat_2=40.66666666666666 +lat_0=40.16666666666666 +lon_0=-74 +x_0=300000.0000000001 +y_0=0 +ellps=GRS80 +datum=NAD83 +to_meter=0.3048006096012192 +no_defs'\n",
    "transformPoint = get_transformPoint(proj4LL, proj4NY)\n",
    "\n",
    "def parse_point(row):\n",
    "    string = row['Shape']\n",
    "    latitude, longitude = string.replace('(', '').replace(')', '').split(',')\n",
    "    x, y = transformPoint(float(longitude), float(latitude))\n",
    "    return Series(dict(ID=row['OBJECTID'], X=x, Y=y))\n",
    "subwayIDXY = subway.apply(parse_point, axis=1)\n",
    "subwayXY = subwayIDXY[['X', 'Y']]"
   ]
  },
  {
   "cell_type": "markdown",
   "metadata": {},
   "source": [
    "# Count graffiti sightings within 100 feet of a subway entrance"
   ]
  },
  {
   "cell_type": "code",
   "execution_count": null,
   "metadata": {},
   "outputs": [],
   "source": [
    "from scipy.spatial import KDTree\n",
    "subwayXYValues = subwayXY.values\n",
    "subwayTree = KDTree(subwayXYValues)\n",
    "graffitiXYValues = graffitiXY.values\n",
    "graffitiTree = KDTree(graffitiXYValues)"
   ]
  },
  {
   "cell_type": "code",
   "execution_count": null,
   "metadata": {},
   "outputs": [],
   "source": [
    "from pandas import DataFrame\n",
    "\n",
    "graffitiXYIndexPacks = subwayTree.query_ball_tree(graffitiTree, r=100)\n",
    "results = []\n",
    "for subwayID, graffitiXYIndices in zip(subwayIDXY['ID'], graffitiXYIndexPacks):\n",
    "    results.append([subwayID, len(graffitiXYIndices)])\n",
    "subwayGraffiti = DataFrame(results, columns=['OBJECTID', 'COUNT'])"
   ]
  },
  {
   "cell_type": "code",
   "execution_count": null,
   "metadata": {},
   "outputs": [],
   "source": [
    "subwayGraffiti = subwayGraffiti.merge(subway)\n",
    "subwayGraffiti.sort('COUNT', ascending=False)[['LINE', 'NAME', 'COUNT']].head()"
   ]
  }
 ],
 "metadata": {
  "kernelspec": {
   "display_name": "Python 3",
   "language": "python",
   "name": "python3"
  },
  "language_info": {
   "codemirror_mode": {
    "name": "ipython",
    "version": 3
   },
   "file_extension": ".py",
   "mimetype": "text/x-python",
   "name": "python",
   "nbconvert_exporter": "python",
   "pygments_lexer": "ipython3",
   "version": "3.5.3"
  }
 },
 "nbformat": 4,
 "nbformat_minor": 1
}
