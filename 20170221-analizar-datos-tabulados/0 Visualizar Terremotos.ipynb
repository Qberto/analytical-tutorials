{
 "cells": [
  {
   "cell_type": "markdown",
   "metadata": {},
   "source": [
    "# Visualizar terremotos\n",
    "\n",
    "Estos datos sobre terremotos son cortesía de [USGS](https://earthquake.usgs.gov).\n",
    "\n",
    "{query_address}\n",
    "\n",
    "Escribe una dirección para ordenar los terremotos recientes por distancia."
   ]
  },
  {
   "cell_type": "code",
   "execution_count": null,
   "metadata": {
    "collapsed": true
   },
   "outputs": [],
   "source": [
    "# CrossCompute\n",
    "target_folder = '/tmp'\n",
    "query_address = 'David, Chiriquí'"
   ]
  },
  {
   "cell_type": "code",
   "execution_count": null,
   "metadata": {
    "collapsed": true
   },
   "outputs": [],
   "source": [
    "from geopy.geocoders import GoogleV3\n",
    "g = GoogleV3()\n",
    "query_location = g.geocode(query_address)\n",
    "query_point = query_location.point\n",
    "query_point"
   ]
  },
  {
   "cell_type": "code",
   "execution_count": null,
   "metadata": {
    "collapsed": true
   },
   "outputs": [],
   "source": [
    "import pandas as pd"
   ]
  },
  {
   "cell_type": "code",
   "execution_count": null,
   "metadata": {
    "collapsed": true
   },
   "outputs": [],
   "source": [
    "table_url = 'https://earthquake.usgs.gov/earthquakes/feed/v1.0/summary/significant_month.csv'\n",
    "table = pd.read_csv(table_url, parse_dates=['time'])\n",
    "table.ix[0]"
   ]
  },
  {
   "cell_type": "code",
   "execution_count": null,
   "metadata": {
    "collapsed": true
   },
   "outputs": [],
   "source": [
    "table = table[['time', 'latitude', 'longitude', 'depth', 'mag', 'place']]\n",
    "table.ix[0]"
   ]
  },
  {
   "cell_type": "code",
   "execution_count": null,
   "metadata": {
    "collapsed": true
   },
   "outputs": [],
   "source": [
    "from geopy.distance import vincenty as get_distance\n",
    "\n",
    "def get_distance_in_km(x):\n",
    "    return pd.Series(get_distance(query_point, (x.latitude, x.longitude)).kilometers)\n",
    "    \n",
    "table['distanceInKm'] = table.apply(get_distance_in_km, axis=1)\n",
    "table = table.sort_values(['distanceInKm'])\n",
    "table[:3]"
   ]
  },
  {
   "cell_type": "code",
   "execution_count": null,
   "metadata": {
    "collapsed": true
   },
   "outputs": [],
   "source": [
    "from datetime import datetime\n",
    "now = datetime.utcnow()\n",
    "\n",
    "def get_elapsed_time_in_negative_seconds(x):\n",
    "    return -1 * (now - x).seconds\n",
    "\n",
    "geotable = table.copy()\n",
    "geotable['fillReds'] = geotable['time'].apply(get_elapsed_time_in_negative_seconds)\n",
    "geotable['radiusInPixelsRange3-27'] = geotable['mag']\n",
    "geotable.ix[0]"
   ]
  },
  {
   "cell_type": "code",
   "execution_count": null,
   "metadata": {
    "collapsed": true
   },
   "outputs": [],
   "source": [
    "from os.path import join\n",
    "\n",
    "table_path = join(target_folder, 'terremotos.csv')\n",
    "table.to_csv(table_path, index=False)\n",
    "print('terremotos_table_path = %s' % table_path)\n",
    "\n",
    "geotable_path = join(target_folder, 'terremotos-mapa.csv')\n",
    "geotable.to_csv(geotable_path, index=False)\n",
    "print('terremotos_satellite_geotable_path = %s' % geotable_path)"
   ]
  },
  {
   "cell_type": "markdown",
   "metadata": {},
   "source": [
    "# Terremotos visualizados\n",
    "\n",
    "{terremotos_table}\n",
    "\n",
    "{terremotos_satellite_geotable}\n",
    "\n",
    "El radio del círculo indica la magnitud.\n",
    "\n",
    "El color del círculo indica el tiempo.\n",
    "\n",
    "[USGS](https://earthquake.usgs.gov) ofrece más tablas sobre terremotos recientes."
   ]
  }
 ],
 "metadata": {
  "kernelspec": {
   "display_name": "Python 3",
   "language": "python",
   "name": "python3"
  },
  "language_info": {
   "codemirror_mode": {
    "name": "ipython",
    "version": 3
   },
   "file_extension": ".py",
   "mimetype": "text/x-python",
   "name": "python",
   "nbconvert_exporter": "python",
   "pygments_lexer": "ipython3",
   "version": "3.5.3"
  }
 },
 "nbformat": 4,
 "nbformat_minor": 2
}
