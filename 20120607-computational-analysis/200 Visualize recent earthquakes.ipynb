{
 "cells": [
  {
   "cell_type": "markdown",
   "metadata": {},
   "source": [
    "# Selected Recent Earthquakes\n",
    "\n",
    "The [U.S. Geological Survey](https://www.usgs.gov) provides real-time earthquake data in [CSV format](https://earthquake.usgs.gov/earthquakes/feed/v1.0/csv.php).\n",
    "\n",
    "{search_query : Query ? Filter by string, e.g. Fiji}\n",
    "\n",
    "{sensor_network_table : Sensor Networks}"
   ]
  },
  {
   "cell_type": "code",
   "execution_count": null,
   "metadata": {
    "collapsed": true
   },
   "outputs": [],
   "source": [
    "# CrossCompute\n",
    "target_folder = '/tmp'\n",
    "search_query = ''\n",
    "sensor_network_table_path = 'datasets/World-AdvancedNationalSeismicSystemNetworks.csv'"
   ]
  },
  {
   "cell_type": "code",
   "execution_count": null,
   "metadata": {
    "collapsed": true
   },
   "outputs": [],
   "source": [
    "%matplotlib inline\n",
    "from matplotlib import pyplot as plt\n",
    "from os.path import join\n",
    "from pandas import read_csv\n",
    "\n",
    "url = 'https://earthquake.usgs.gov/earthquakes/feed/v1.0/summary/4.5_month.csv'\n",
    "\n",
    "earthquakes = read_csv(url, usecols=[\n",
    "    'time', 'latitude', 'longitude', 'depth', 'mag', 'net', 'place',\n",
    "], parse_dates=['time'])\n",
    "\n",
    "earthquake_count = len(earthquakes)"
   ]
  },
  {
   "cell_type": "code",
   "execution_count": null,
   "metadata": {
    "collapsed": true
   },
   "outputs": [],
   "source": [
    "# Filter by search_query\n",
    "earthquakes = earthquakes[earthquakes['place'].str.contains(search_query, case=False)]\n",
    "earthquakes.ix[earthquakes.index[0]]"
   ]
  },
  {
   "cell_type": "code",
   "execution_count": null,
   "metadata": {
    "collapsed": true
   },
   "outputs": [],
   "source": [
    "target_path = join(target_folder, 'selected-earthquakes.csv')\n",
    "sorted_earthquakes = earthquakes.sort_values('mag', ascending=False)\n",
    "sorted_earthquakes.to_csv(target_path, index=False)\n",
    "sorted_earthquake_count = len(sorted_earthquakes)\n",
    "print('selected_earthquake_table_path = %s' % target_path)\n",
    "print('selected_earthquake_count = %s' % sorted_earthquake_count)\n",
    "print('selected_earthquake_percent = %s' % (100 * sorted_earthquake_count / float(earthquake_count)))\n",
    "sorted_earthquakes.head()"
   ]
  },
  {
   "cell_type": "markdown",
   "metadata": {},
   "source": [
    "## How were the earthquakes distributed?"
   ]
  },
  {
   "cell_type": "code",
   "execution_count": null,
   "metadata": {
    "collapsed": true
   },
   "outputs": [],
   "source": [
    "earthquakes.hist();"
   ]
  },
  {
   "cell_type": "code",
   "execution_count": null,
   "metadata": {
    "collapsed": true
   },
   "outputs": [],
   "source": [
    "target_path = join(target_folder, 'histograms.png')\n",
    "plt.savefig(target_path)\n",
    "print('histograms_image_path = %s' % target_path)\n",
    "plt.figure()"
   ]
  },
  {
   "cell_type": "markdown",
   "metadata": {},
   "source": [
    "## What was the magnitude of the largest earthquake?"
   ]
  },
  {
   "cell_type": "code",
   "execution_count": null,
   "metadata": {
    "collapsed": true
   },
   "outputs": [],
   "source": [
    "earthquakes['mag'].max()"
   ]
  },
  {
   "cell_type": "markdown",
   "metadata": {},
   "source": [
    "## Which place had the largest earthquake?"
   ]
  },
  {
   "cell_type": "code",
   "execution_count": null,
   "metadata": {
    "collapsed": true
   },
   "outputs": [],
   "source": [
    "earthquakes.ix[earthquakes['mag'].idxmax()]['place']"
   ]
  },
  {
   "cell_type": "markdown",
   "metadata": {},
   "source": [
    "## Plot earthquake magnitudes"
   ]
  },
  {
   "cell_type": "code",
   "execution_count": null,
   "metadata": {
    "collapsed": true
   },
   "outputs": [],
   "source": [
    "# Plot by day\n",
    "earthquakes_by_time = earthquakes.set_index('time')\n",
    "earthquakes_by_time['mag'].plot();"
   ]
  },
  {
   "cell_type": "code",
   "execution_count": null,
   "metadata": {
    "collapsed": true
   },
   "outputs": [],
   "source": [
    "# Plot by week\n",
    "earthquakes_by_time.resample('W')['mag'].plot();"
   ]
  },
  {
   "cell_type": "code",
   "execution_count": null,
   "metadata": {
    "collapsed": true
   },
   "outputs": [],
   "source": [
    "target_path = join(target_folder, 'magnitudes.png')\n",
    "plt.savefig(target_path)\n",
    "print('magnitudes_image_path = %s' % target_path)\n",
    "plt.figure()"
   ]
  },
  {
   "cell_type": "markdown",
   "metadata": {},
   "source": [
    "## How many earthquakes were north of the equator?"
   ]
  },
  {
   "cell_type": "code",
   "execution_count": null,
   "metadata": {
    "collapsed": true
   },
   "outputs": [],
   "source": [
    "len(earthquakes[earthquakes['latitude'] > 0])"
   ]
  },
  {
   "cell_type": "markdown",
   "metadata": {},
   "source": [
    "## How many earthquakes were south of the equator?"
   ]
  },
  {
   "cell_type": "code",
   "execution_count": null,
   "metadata": {
    "collapsed": true
   },
   "outputs": [],
   "source": [
    "# Type your solution here and press CTRL-ENTER"
   ]
  },
  {
   "cell_type": "markdown",
   "metadata": {},
   "source": [
    "## How many earthquakes did each sensor network measure?"
   ]
  },
  {
   "cell_type": "code",
   "execution_count": null,
   "metadata": {
    "collapsed": true
   },
   "outputs": [],
   "source": [
    "# Count earthquakes by sensor network code\n",
    "earthquakes['net'].value_counts()"
   ]
  },
  {
   "cell_type": "markdown",
   "metadata": {},
   "source": [
    "## What were the names of each sensor network?"
   ]
  },
  {
   "cell_type": "code",
   "execution_count": null,
   "metadata": {
    "collapsed": true
   },
   "outputs": [],
   "source": [
    "# Load information on sensor networks\n",
    "sensor_networks = read_csv(sensor_network_table_path)\n",
    "sensor_networks.head()"
   ]
  },
  {
   "cell_type": "code",
   "execution_count": null,
   "metadata": {
    "collapsed": true
   },
   "outputs": [],
   "source": [
    "# Rename columns\n",
    "sensor_networks.rename(columns={\n",
    "    'Network Code': 'net',\n",
    "    'Network Name': 'netName',\n",
    "}, inplace=True)\n",
    "# Change codes to lowercase\n",
    "sensor_networks['net'] = sensor_networks['net'].str.lower()\n",
    "sensor_networks.head()"
   ]
  },
  {
   "cell_type": "code",
   "execution_count": null,
   "metadata": {
    "collapsed": true
   },
   "outputs": [],
   "source": [
    "# Merge tables\n",
    "merged_earthquakes = earthquakes.merge(sensor_networks)\n",
    "merged_earthquakes[['place', 'mag', 'net', 'netName']].tail()"
   ]
  },
  {
   "cell_type": "code",
   "execution_count": null,
   "metadata": {
    "collapsed": true
   },
   "outputs": [],
   "source": [
    "# Count earthquakes by sensor network name\n",
    "merged_earthquakes.groupby('netName')['mag'].count()"
   ]
  },
  {
   "cell_type": "markdown",
   "metadata": {},
   "source": [
    "## Which ten places had the most earthquakes?"
   ]
  },
  {
   "cell_type": "code",
   "execution_count": null,
   "metadata": {
    "collapsed": true
   },
   "outputs": [],
   "source": [
    "earthquakes['place'].value_counts()[:10]"
   ]
  },
  {
   "cell_type": "markdown",
   "metadata": {},
   "source": [
    "## Which ten places had the largest earthquakes?"
   ]
  },
  {
   "cell_type": "code",
   "execution_count": null,
   "metadata": {
    "collapsed": true
   },
   "outputs": [],
   "source": [
    "earthquakes.groupby('place')['mag'].max().sort_values(ascending=False)[:10]"
   ]
  },
  {
   "cell_type": "markdown",
   "metadata": {},
   "source": [
    "## Where are these earthquakes on a map?"
   ]
  },
  {
   "cell_type": "code",
   "execution_count": null,
   "metadata": {
    "collapsed": true
   },
   "outputs": [],
   "source": [
    "from datetime import datetime\n",
    "now = datetime.utcnow()\n",
    "\n",
    "def get_elapsed_time_in_negative_seconds(x):\n",
    "    return -1 * (now - x).seconds\n",
    "\n",
    "geotable = earthquakes.copy()\n",
    "geotable['fillReds'] = geotable['time'].apply(get_elapsed_time_in_negative_seconds)\n",
    "geotable['radiusInPixelsRange3-27'] = geotable['mag']\n",
    "\n",
    "target_path = join(target_folder, 'mapped-earthquakes.csv')\n",
    "geotable.to_csv(target_path, index=False)\n",
    "print('selected_earthquakes_geotable_path = %s' % target_path)"
   ]
  },
  {
   "cell_type": "markdown",
   "metadata": {},
   "source": [
    "Information provided courtesy of the [USGS Earthquake Hazards Program](https://earthquake.usgs.gov/earthquakes/feed).\n",
    "\n",
    "{selected_earthquake_count : selected earthquake count (past 30 days) ? # of earthquakes matching your query}"
   ]
  }
 ],
 "metadata": {
  "kernelspec": {
   "display_name": "Python 3",
   "language": "python",
   "name": "python3"
  },
  "language_info": {
   "codemirror_mode": {
    "name": "ipython",
    "version": 3
   },
   "file_extension": ".py",
   "mimetype": "text/x-python",
   "name": "python",
   "nbconvert_exporter": "python",
   "pygments_lexer": "ipython3",
   "version": "3.5.3"
  }
 },
 "nbformat": 4,
 "nbformat_minor": 1
}
